{
 "cells": [
  {
   "cell_type": "markdown",
   "source": [
    "# Checking package installation\n",
    "- Numpy: 배열, 행렬 연산에 필요한 기능을 제공\n",
    "- PyTorch: 기계학습 프레임워크\n",
    "- Matplotlib: 수학적 데이터 시각화\n",
    "- Pandas: 시계열 연산에 필요한 데이터 구조\n",
    "- Scikit-learn: 회귀, 분류, 클러스터 등 다양한 기능을 제공"
   ],
   "metadata": {
    "collapsed": false
   },
   "id": "43a603434087c84e"
  },
  {
   "cell_type": "code",
   "execution_count": 1,
   "id": "initial_id",
   "metadata": {
    "collapsed": true,
    "ExecuteTime": {
     "end_time": "2023-09-06T06:16:23.169327100Z",
     "start_time": "2023-09-06T06:16:16.575399Z"
    }
   },
   "outputs": [
    {
     "name": "stdout",
     "output_type": "stream",
     "text": [
      "Python version: 3.10.12 | packaged by Anaconda, Inc. | (main, Jul  5 2023, 19:01:18) [MSC v.1916 64 bit (AMD64)]\n",
      "Numpy version: 1.25.2\n",
      "PyTorch version: 2.0.1+cu118\n",
      "Matplotlib version: 3.7.2\n",
      "Pandas version is 2.1.0\n",
      "Scikit-learn version: 1.3.0\n",
      "GPU present: True\n"
     ]
    }
   ],
   "source": [
    "import numpy as np\n",
    "import torch\n",
    "import sys\n",
    "import matplotlib\n",
    "import sklearn\n",
    "import pandas\n",
    "\n",
    "print(f'Python version: {sys.version}')\n",
    "print(f'Numpy version: {np.version.version}')\n",
    "print(f'PyTorch version: {torch.version.__version__}')\n",
    "print(f'Matplotlib version: {matplotlib.__version__}')\n",
    "print(f'Pandas version is {pandas.__version__}')\n",
    "print(f'Scikit-learn version: {sklearn.__version__}')\n",
    "print(f'GPU present: {torch.cuda.is_available()}')"
   ]
  },
  {
   "cell_type": "code",
   "execution_count": null,
   "outputs": [],
   "source": [],
   "metadata": {
    "collapsed": false
   },
   "id": "9562680c85b4497e"
  }
 ],
 "metadata": {
  "kernelspec": {
   "display_name": "Python 3",
   "language": "python",
   "name": "python3"
  },
  "language_info": {
   "codemirror_mode": {
    "name": "ipython",
    "version": 2
   },
   "file_extension": ".py",
   "mimetype": "text/x-python",
   "name": "python",
   "nbconvert_exporter": "python",
   "pygments_lexer": "ipython2",
   "version": "2.7.6"
  }
 },
 "nbformat": 4,
 "nbformat_minor": 5
}
